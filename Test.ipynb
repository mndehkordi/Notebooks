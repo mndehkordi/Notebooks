{
  "nbformat": 4,
  "nbformat_minor": 0,
  "metadata": {
    "colab": {
      "name": "Test.ipynb",
      "version": "0.3.2",
      "provenance": [],
      "collapsed_sections": [],
      "include_colab_link": true
    },
    "kernelspec": {
      "name": "python2",
      "display_name": "Python 2"
    }
  },
  "cells": [
    {
      "cell_type": "markdown",
      "metadata": {
        "id": "view-in-github",
        "colab_type": "text"
      },
      "source": [
        "<a href=\"https://colab.research.google.com/github/mndehkordi/Notebooks/blob/master/Test.ipynb\" target=\"_parent\"><img src=\"https://colab.research.google.com/assets/colab-badge.svg\" alt=\"Open In Colab\"/></a>"
      ]
    },
    {
      "metadata": {
        "id": "cH-YtyZs7Gcg",
        "colab_type": "text"
      },
      "cell_type": "markdown",
      "source": [
        "# Test Tensorflow"
      ]
    },
    {
      "metadata": {
        "id": "r0QBC2kTixPn",
        "colab_type": "text"
      },
      "cell_type": "markdown",
      "source": [
        "**Learning Objective:** Run a TensorFlow program in the browser."
      ]
    },
    {
      "metadata": {
        "id": "bRuPN7qo7ICp",
        "colab_type": "code",
        "cellView": "both",
        "outputId": "692aebf7-6c61-42e8-fb09-01340c3ea29f",
        "colab": {
          "base_uri": "https://localhost:8080/",
          "height": 221
        }
      },
      "cell_type": "code",
      "source": [
        "import tensorflow as tf\n",
        "mnist = tf.keras.datasets.mnist\n",
        "\n",
        "# k=tf.keras.datasets.reuters\n",
        "\n",
        "(x_train, y_train),(x_test, y_test) = mnist.load_data()\n",
        "x_train, x_test = x_train / 255.0, x_test / 255.0\n",
        "\n",
        "model = tf.keras.models.Sequential([\n",
        "  tf.keras.layers.Flatten(input_shape=(28, 28)),\n",
        "  tf.keras.layers.Dense(128, activation='relu'),\n",
        "  tf.keras.layers.Dropout(0.2),\n",
        "  tf.keras.layers.Dense(10, activation='softmax')\n",
        "])\n",
        "\n",
        "model.compile(optimizer='adam',\n",
        "              loss='sparse_categorical_crossentropy',\n",
        "              metrics=['accuracy'])\n",
        "\n",
        "model.fit(x_train, y_train, epochs=5)\n",
        "model.evaluate(x_test, y_test)"
      ],
      "execution_count": 7,
      "outputs": [
        {
          "output_type": "stream",
          "text": [
            "Epoch 1/5\n",
            "60000/60000 [==============================] - 8s 137us/sample - loss: 0.2994 - acc: 0.9140\n",
            "Epoch 2/5\n",
            "60000/60000 [==============================] - 8s 140us/sample - loss: 0.1450 - acc: 0.9568\n",
            "Epoch 3/5\n",
            "60000/60000 [==============================] - 8s 135us/sample - loss: 0.1073 - acc: 0.9679\n",
            "Epoch 4/5\n",
            "60000/60000 [==============================] - 8s 134us/sample - loss: 0.0900 - acc: 0.9727\n",
            "Epoch 5/5\n",
            "60000/60000 [==============================] - 8s 141us/sample - loss: 0.0745 - acc: 0.9765\n",
            "10000/10000 [==============================] - 0s 49us/sample - loss: 0.0772 - acc: 0.9766\n"
          ],
          "name": "stdout"
        },
        {
          "output_type": "execute_result",
          "data": {
            "text/plain": [
              "[0.07722196256304159, 0.9766]"
            ]
          },
          "metadata": {
            "tags": []
          },
          "execution_count": 7
        }
      ]
    }
  ]
}